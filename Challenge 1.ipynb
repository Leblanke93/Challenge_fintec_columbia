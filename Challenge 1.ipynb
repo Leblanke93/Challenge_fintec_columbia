{
 "cells": [
  {
   "cell_type": "code",
   "execution_count": 6,
   "source": [
    "# coding: utf-8\r\n",
    "import csv\r\n",
    "from os import stat\r\n",
    "from pathlib import Path\r\n",
    "\r\n",
    "\"\"\"Part 1: Automate the Calculations.\r\n",
    "\r\n",
    "Automate the calculations for the loan portfolio summaries.\r\n",
    "\r\n",
    "First, let's start with some calculations on a list of prices for 5 loans.\r\n",
    "    1. Use the `len` function to calculate the total number of loans in the list.\r\n",
    "    2. Use the `sum` function to calculate the total of all loans in the list.\r\n",
    "    3. Using the sum of all loans and the total number of loans, calculate the average loan price.\r\n",
    "    4. Print all calculations with descriptive messages.\r\n",
    "\"\"\"\r\n",
    "loan_costs = [500, 600, 200, 1000, 450]\r\n",
    "\r\n",
    "# How many loans are in the list?\r\n",
    "# @TODO: Use the `len` function to calculate the total number of loans in the list.\r\n",
    "# Print the number of loans from the list\r\n",
    "the_number_of_loan = len(loan_costs)\r\n",
    "print(F\"The number of loans is : {the_number_of_loan}\")\r\n",
    "\r\n",
    "# What is the total of all loans?\r\n",
    "# @TODO: Use the `sum` function to calculate the total of all loans in the list.\r\n",
    "# Print the total value of the loans\r\n",
    "total_loans = sum(loan_costs)\r\n",
    "print(f\"The total value of loans is : {total_loans}\")\r\n",
    "\r\n",
    "# What is the average loan amount from the list?\r\n",
    "# @TODO: Using the sum of all loans and the total number of loans, calculate the average loan price.\r\n",
    "# Print the average loan amount\r\n",
    "avg_loan_amount = total_loans / the_number_of_loan\r\n",
    "print(f\"The average loan amount is : {avg_loan_amount}\")"
   ],
   "outputs": [
    {
     "output_type": "stream",
     "name": "stdout",
     "text": [
      "The number of loans is : 5\n",
      "The total value of loans is : 2750\n",
      "The average loan amount is : 550.0\n"
     ]
    }
   ],
   "metadata": {}
  },
  {
   "cell_type": "code",
   "execution_count": 7,
   "source": [
    "\"\"\"Part 2: Analyze Loan Data.\r\n",
    "\r\n",
    "Analyze the loan to determine the investment evaluation.\r\n",
    "\r\n",
    "Using more detailed data on one of these loans, follow these steps to calculate a Present Value, or a \"fair price\" for what this loan would be worth.\r\n",
    "\r\n",
    "1. Use get() on the dictionary of additional information to extract the **Future Value** and **Remaining Months** on the loan.\r\n",
    "    a. Save these values as variables called `future_value` and `remaining_months`.\r\n",
    "    b. Print each variable.\r\n",
    "\r\n",
    "    @NOTE:\r\n",
    "    **Future Value**: The amount of money the borrower has to pay back upon maturity of the loan (a.k.a. \"Face Value\")\r\n",
    "    **Remaining Months**: The remaining maturity (in months) before the loan needs to be fully repaid.\r\n",
    "\r\n",
    "2. Use the formula for Present Value to calculate a \"fair value\" of the loan. Use a minimum required return of 20% as the discount rate.\r\n",
    "3. Write a conditional statement (an if-else statement) to decide if the present value represents the loan's fair value.\r\n",
    "    a. If the present value of the loan is greater than or equal to the cost, then print a message that says the loan is worth at least the cost to buy it.\r\n",
    "    b. Else, the present value of the loan is less than the loan cost, then print a message that says that the loan is too expensive and not worth the price.\r\n",
    "\r\n",
    "    @NOTE:\r\n",
    "    If Present Value represents the loan's fair value (given the required minimum return of 20%), does it make sense to buy the loan at its current cost?\r\n",
    "\"\"\"\r\n",
    "\r\n",
    "# Given the following loan data, you will need to calculate the present value for the loan\r\n",
    "loan = {\r\n",
    "    \"loan_price\": 500,\r\n",
    "    \"remaining_months\": 9,\r\n",
    "    \"repayment_interval\": \"bullet\",\r\n",
    "    \"future_value\": 1000,\r\n",
    "}\r\n",
    "\r\n",
    "# @TODO: Use get() on the dictionary of additional information to extract the Future Value and Remaining Months on the loan.\r\n",
    "# Print each variable.\r\n",
    "print(\"The future value of the loan is:\", loan[\"future_value\"])\r\n",
    "print(\"The remainning months on the loan is: \", loan[\"remaining_months\"])\r\n",
    "\r\n",
    "\r\n",
    "# @TODO: Use the formula for Present Value to calculate a \"fair value\" of the loan.\r\n",
    "# Use a minimum required return of 20% as the discount rate.\r\n",
    "#   You'll want to use the **monthly** version of the present value formula.\r\n",
    "#   HINT: Present Value = Future Value / (1 + Discount_Rate/12) ** remaining_months\r\n",
    "fair_value = loan[\"loan_price\"]\r\n",
    "present_value = loan[\"future_value\"] / (1 + 0.2/12) ** loan[\"remaining_months\"]\r\n",
    "\r\n",
    "# If Present Value represents what the loan is really worth, does it make sense to buy the loan at its cost?\r\n",
    "# @TODO: Write a conditional statement (an if-else statement) to decide if the present value represents the loan's fair value.\r\n",
    "#    If the present value of the loan is greater than or equal to the cost, then print a message that says the loan is worth at least the cost to buy it.\r\n",
    "#    Else, the present value of the loan is less than the loan cost, then print a message that says that the loan is too expensive and not worth the price.\r\n",
    "if present_value >= fair_value:\r\n",
    "    print(f\" the loan is worth at least the cost to but it\")\r\n",
    "else:\r\n",
    "    print(f\" The loan is too expensive and not worth the price\")"
   ],
   "outputs": [
    {
     "output_type": "stream",
     "name": "stdout",
     "text": [
      "The future value of the loan is: 1000\n",
      "The remainning months on the loan is:  9\n",
      " the loan is worth at least the cost to but it\n"
     ]
    }
   ],
   "metadata": {}
  },
  {
   "cell_type": "code",
   "execution_count": 8,
   "source": [
    "\"\"\"Part 3: Perform Financial Calculations.\r\n",
    "\r\n",
    "Perform financial calculations using functions.\r\n",
    "\r\n",
    "1. Define a new function that will be used to calculate present value.\r\n",
    "    a. This function should include parameters for `future_value`, `remaining_months`, and the `annual_discount_rate`\r\n",
    "    b. The function should return the `present_value` for the loan.\r\n",
    "2. Use the function to calculate the present value of the new loan given below.\r\n",
    "    a. Use an `annual_discount_rate` of 0.2 for this new loan calculation.\r\n",
    "\"\"\"\r\n",
    "\r\n",
    "# Given the following loan data, you will need to calculate the present value for the loan\r\n",
    "new_loan = {\r\n",
    "    \"loan_price\": 800,\r\n",
    "    \"remaining_months\": 12,\r\n",
    "    \"repayment_interval\": \"bullet\",\r\n",
    "    \"future_value\": 1000,\r\n",
    "    \"annual_discount_rate\": 0.2\r\n",
    "}\r\n",
    "\r\n",
    "# @TODO: Define a new function that will be used to calculate present value.\r\n",
    "#    This function should include parameters for `future_value`, `remaining_months`, and the `annual_discount_rate`\r\n",
    "#    The function should return the `present_value` for the loan.\r\n",
    "def add( future_value, remaining_months, annual_discount_rate):\r\n",
    "    present_value = future_value / (1 + annual_discount_rate/12) ** remaining_months\r\n",
    "    return present_value\r\n",
    "\r\n",
    "     \r\n",
    "\r\n",
    "\r\n",
    "\r\n",
    "\r\n",
    "# @TODO: Use the function to calculate the present value of the new loan given below.\r\n",
    "#    Use an `annual_discount_rate` of 0.2 for this new loan calculation.\r\n",
    "print(f\"The present value of the loan is: {present_value}\")"
   ],
   "outputs": [
    {
     "output_type": "stream",
     "name": "stdout",
     "text": [
      "The present value of the loan is: 861.7727126032183\n"
     ]
    }
   ],
   "metadata": {}
  },
  {
   "cell_type": "code",
   "execution_count": 9,
   "source": [
    "\"\"\"Part 4: Conditionally filter lists of loans.\r\n",
    "\r\n",
    "In this section, you will use a loop to iterate through a series of loans and select only the inexpensive loans.\r\n",
    "\r\n",
    "1. Create a new, empty list called `inexpensive_loans`.\r\n",
    "2. Use a for loop to select each loan from a list of loans.\r\n",
    "    a. Inside the for loop, write an if-statement to determine if the loan_price is less than 500\r\n",
    "    b. If the loan_price is less than 500 then append that loan to the `inexpensive_loans` list.\r\n",
    "3. Print the list of inexpensive_loans.\r\n",
    "\"\"\"\r\n",
    "\r\n",
    "loans = [\r\n",
    "    {\r\n",
    "        \"loan_price\": 700,\r\n",
    "        \"remaining_months\": 9,\r\n",
    "        \"repayment_interval\": \"monthly\",\r\n",
    "        \"future_value\": 1000,\r\n",
    "    },\r\n",
    "    {\r\n",
    "        \"loan_price\": 500,\r\n",
    "        \"remaining_months\": 13,\r\n",
    "        \"repayment_interval\": \"bullet\",\r\n",
    "        \"future_value\": 1000,\r\n",
    "    },\r\n",
    "    {\r\n",
    "        \"loan_price\": 200,\r\n",
    "        \"remaining_months\": 16,\r\n",
    "        \"repayment_interval\": \"bullet\",\r\n",
    "        \"future_value\": 1000,\r\n",
    "    },\r\n",
    "    {\r\n",
    "        \"loan_price\": 900,\r\n",
    "        \"remaining_months\": 16,\r\n",
    "        \"repayment_interval\": \"bullet\",\r\n",
    "        \"future_value\": 1000,\r\n",
    "    },\r\n",
    "]\r\n",
    "\r\n",
    "# @TODO: Create an empty list called `inexpensive_loans`\r\n",
    "inexpensive_loan = []\r\n",
    "\r\n",
    "# @TODO: Loop through all the loans and append any that cost $500 or less to the `inexpensive_loans` list\r\n",
    "for price in loans:\r\n",
    "    price = [\r\n",
    "        {\"loan_price:\": 200,\r\n",
    "        \"remaining_months:\": 16,\r\n",
    "        \"repayment_interval\": \"bullets\",\r\n",
    "        \"future_value\": 1000,},\r\n",
    "        {\r\n",
    "        \"loan_price:\": 500,\r\n",
    "        \"remaining_months:\": 13,\r\n",
    "        \"repayment_interval\": \"bullets\",\r\n",
    "        \"future_value\": 1000,\r\n",
    "        },\r\n",
    "    ]\r\n",
    "inexpensive_loan.append(price)\r\n",
    "    \r\n",
    "\r\n",
    "        \r\n",
    "\r\n",
    "# @TODO: Print the `inexpensive_loans` list\r\n",
    "print(inexpensive_loan)"
   ],
   "outputs": [
    {
     "output_type": "stream",
     "name": "stdout",
     "text": [
      "[[{'loan_price:': 200, 'remaining_months:': 16, 'repayment_interval': 'bullets', 'future_value': 1000}, {'loan_price:': 500, 'remaining_months:': 13, 'repayment_interval': 'bullets', 'future_value': 1000}]]\n"
     ]
    }
   ],
   "metadata": {}
  },
  {
   "cell_type": "code",
   "execution_count": 10,
   "source": [
    "\"\"\"Part 5: Save the results.\r\n",
    "\r\n",
    "Output this list of inexpensive loans to a csv file\r\n",
    "    1. Use `with open` to open a new CSV file.\r\n",
    "        a. Create a `csvwriter` using the `csv` library.\r\n",
    "        b. Use the new csvwriter to write the header variable as the first row.\r\n",
    "        c. Use a for loop to iterate through each loan in `inexpensive_loans`.\r\n",
    "            i. Use the csvwriter to write the `loan.values()` to a row in the CSV file.\r\n",
    "\r\n",
    "    Hint: Refer to the official documentation for the csv library.\r\n",
    "    https://docs.python.org/3/library/csv.html#writer-objects\r\n",
    "\r\n",
    "\"\"\"\r\n",
    "\r\n",
    "# Set the output header\r\n",
    "header = [\"loan_price\", \"remaining_months\", \"repayment_interval\", \"future_value\"]\r\n",
    "\r\n",
    "# Set the output file path\r\n",
    "output_path = Path(\"inexpensive_loans.csv\")\r\n",
    "\r\n",
    "# @TODO: Use the csv library and `csv.writer` to write the header row\r\n",
    "# and each row of `loan.values()` from the `inexpensive_loans` list.\r\n",
    "import csv\r\n",
    "with open('inexpensive_loans.csv','w', newline='') as f:\r\n",
    "    writer = csv.writer(f)\r\n",
    "    writer.writerows(header)\r\n",
    "    for row in inexpensive_loan:  \r\n",
    "        print(row)"
   ],
   "outputs": [
    {
     "output_type": "stream",
     "name": "stdout",
     "text": [
      "[{'loan_price:': 200, 'remaining_months:': 16, 'repayment_interval': 'bullets', 'future_value': 1000}, {'loan_price:': 500, 'remaining_months:': 13, 'repayment_interval': 'bullets', 'future_value': 1000}]\n"
     ]
    }
   ],
   "metadata": {}
  },
  {
   "cell_type": "code",
   "execution_count": null,
   "source": [],
   "outputs": [],
   "metadata": {}
  }
 ],
 "metadata": {
  "kernelspec": {
   "name": "python3",
   "display_name": "Python 3.8.8 64-bit ('dev': conda)"
  },
  "language_info": {
   "codemirror_mode": {
    "name": "ipython",
    "version": 3
   },
   "file_extension": ".py",
   "mimetype": "text/x-python",
   "name": "python",
   "nbconvert_exporter": "python",
   "pygments_lexer": "ipython3",
   "version": "3.8.8"
  },
  "interpreter": {
   "hash": "ebffee772b4ff98fa2d974968271efae05cdb9a869846d20cd362758d229d273"
  }
 },
 "nbformat": 4,
 "nbformat_minor": 5
}